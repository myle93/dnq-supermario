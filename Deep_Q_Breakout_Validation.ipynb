{
 "cells": [
  {
   "cell_type": "code",
   "execution_count": 7,
   "metadata": {},
   "outputs": [],
   "source": [
    "import random\n",
    "import numpy\n",
    "import torch\n",
    "import gymnasium as gym\n",
    "\n",
    "torch.set_default_device(\"cuda\")"
   ]
  },
  {
   "cell_type": "code",
   "execution_count": 2,
   "metadata": {},
   "outputs": [],
   "source": [
    "class Network(torch.nn.Module):\n",
    "    def __init__(self, inFrames, outputDimension):\n",
    "        super().__init__()\n",
    "        # initializes layers with kaiming uniform\n",
    "        self.Conv2d_1 = torch.nn.Conv2d(in_channels=inFrames, out_channels=16, kernel_size=8, stride=4)\n",
    "        self.Conv2d_2 = torch.nn.Conv2d(in_channels=16, out_channels=32, kernel_size=4, stride=2)  \n",
    "        self.Linear_1 = torch.nn.Linear(2592, 256)\n",
    "        self.Linear_2 = torch.nn.Linear(256,outputDimension)\n",
    "    def forward(self, input):\n",
    "        # input (1,84,84)\n",
    "        x = self.Conv2d_1(input)\n",
    "        x = torch.nn.functional.relu(x)\n",
    "        x = self.Conv2d_2(x)\n",
    "        x = torch.nn.functional.relu(x)\n",
    "        x = x.flatten()\n",
    "        x = self.Linear_1(x)\n",
    "        x = torch.nn.functional.relu(x)\n",
    "        x = self.Linear_2(x)\n",
    "        # output (outputDimension)\n",
    "        return x\n",
    "    def forwardBatch(self, input):\n",
    "        # input (Batch,1,84,84)\n",
    "        x = self.Conv2d_1(input)\n",
    "        x = torch.nn.functional.relu(x)\n",
    "        x = self.Conv2d_2(x)\n",
    "        x = torch.nn.functional.relu(x)\n",
    "        x = x.flatten(start_dim=1)\n",
    "        x = self.Linear_1(x)\n",
    "        x = torch.nn.functional.relu(x)\n",
    "        x = self.Linear_2(x)\n",
    "        # output (Batch, outputDimension)\n",
    "        return x"
   ]
  },
  {
   "cell_type": "code",
   "execution_count": 4,
   "metadata": {},
   "outputs": [],
   "source": [
    "def pickAction(state):\n",
    "    global Epsilon\n",
    "\n",
    "    if(random.random()<Epsilon):\n",
    "        return env.action_space.sample()\n",
    "    else:\n",
    "        return torch.argmax(BreakoutPlayer(state)).item()"
   ]
  },
  {
   "cell_type": "code",
   "execution_count": 5,
   "metadata": {},
   "outputs": [],
   "source": [
    "def FrameskipStep(env, action, SkipFrames):\n",
    "    fullReward = 0\n",
    "    for _ in range(SkipFrames):\n",
    "        observation, reward, terminated, truncated, info = env.step(action)\n",
    "        fullReward += reward\n",
    "        if(terminated or truncated):\n",
    "            return observation, fullReward, terminated, truncated, info\n",
    "    return observation, fullReward, terminated, truncated, info"
   ]
  },
  {
   "cell_type": "code",
   "execution_count": null,
   "metadata": {},
   "outputs": [],
   "source": [
    "Epsilon = 0.05\n",
    "\n",
    "inFrames = 4\n",
    "possibleActions = 4\n",
    "# the agent only sees every nth frame (1, 1+n, 1+2n, etc.) so the agent doesnt see the n-1 frames in between\n",
    "SkipFrames = 4\n",
    "\n",
    "agent = \"Breakout_DQN_0\"\n",
    "\n",
    "logdir = f\"logs/{agent}\"\n",
    "\n",
    "BreakoutPlayer = Network(inFrames,possibleActions)\n",
    "BreakoutPlayer.load_state_dict(torch.load(f\"./models/{agent}\", weights_only=True))"
   ]
  },
  {
   "cell_type": "code",
   "execution_count": null,
   "metadata": {},
   "outputs": [],
   "source": [
    "# validation enviroment\n",
    "\n",
    "Epsilon = 0.05\n",
    "\n",
    "env = gym.make(\"ALE/Breakout-v5\", render_mode = \"human\")\n",
    "\n",
    "env = gym.wrappers.ResizeObservation(env, (100,84))\n",
    "\n",
    "env = gym.wrappers.GrayScaleObservation(env, keep_dim = True)\n",
    "\n",
    "env = gym.wrappers.FrameStack(env, 4)\n",
    "\n",
    "validationEpisodeReward = 0\n",
    "\n",
    "with torch.no_grad():\n",
    "    observation, info = env.reset()\n",
    "    nextState = torch.tensor(numpy.array(observation)[:,8:8+84,:,:], dtype=torch.float32)\n",
    "    nextState= nextState.reshape((1,4,84,84))\n",
    "\n",
    "    terminated, truncated = False, False\n",
    "\n",
    "    while not terminated and not truncated:\n",
    "        state = nextState\n",
    "        action = pickAction(state)\n",
    "        observation, reward, terminated, truncated, info = FrameskipStep(env, action, SkipFrames)\n",
    "        validationEpisodeReward += reward\n",
    "        nextState = torch.tensor(numpy.array(observation)[:,8:8+84,:,:], dtype=torch.float32)\n",
    "        nextState = nextState.reshape((1,4,84,84))\n",
    "\n",
    "print(validationEpisodeReward)\n",
    "\n",
    "env.close()"
   ]
  }
 ],
 "metadata": {
  "kernelspec": {
   "display_name": ".venv",
   "language": "python",
   "name": "python3"
  },
  "language_info": {
   "codemirror_mode": {
    "name": "ipython",
    "version": 3
   },
   "file_extension": ".py",
   "mimetype": "text/x-python",
   "name": "python",
   "nbconvert_exporter": "python",
   "pygments_lexer": "ipython3",
   "version": "3.11.5"
  }
 },
 "nbformat": 4,
 "nbformat_minor": 2
}
