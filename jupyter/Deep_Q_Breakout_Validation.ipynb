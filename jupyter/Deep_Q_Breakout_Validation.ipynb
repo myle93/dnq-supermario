{
 "cells": [
  {
   "cell_type": "code",
   "execution_count": 1,
   "metadata": {},
   "outputs": [],
   "source": [
    "import random\n",
    "import numpy\n",
    "import torch\n",
    "import gymnasium as gym\n",
    "import ale_py\n",
    "\n",
    "gym.register_envs(ale_py)\n",
    "\n",
    "if torch.cuda.is_available():\n",
    "    torch.set_default_device(\"cuda\")\n",
    "else:\n",
    "    torch.set_default_device(\"cpu\")"
   ]
  },
  {
   "cell_type": "code",
   "execution_count": 2,
   "metadata": {},
   "outputs": [],
   "source": [
    "from torch import Tensor\n",
    "from torch.nn import Module, Conv2d, Linear, functional\n",
    "\n",
    "\n",
    "class Network(Module):\n",
    "    def __init__(self, inFrames: int, outputDimension: int):\n",
    "        super().__init__()  # type: ignore\n",
    "        # initializes layers with kaiming uniform\n",
    "        self.conv2d_1 = Conv2d(\n",
    "            in_channels=inFrames, out_channels=16, kernel_size=8, stride=4\n",
    "        )\n",
    "        self.conv2d_2 = Conv2d(in_channels=16, out_channels=32, kernel_size=4, stride=2)\n",
    "        self.linear_1 = Linear(2592, 256)\n",
    "        self.linear_2 = Linear(256, outputDimension)\n",
    "\n",
    "    def forward(self, input: int):\n",
    "        # input (1,84,84)\n",
    "        x = self.conv2d_1(input)\n",
    "        x = functional.relu(x)\n",
    "        x = self.conv2d_2(x)\n",
    "        x = functional.relu(x)\n",
    "        x = x.flatten()\n",
    "        x = self.linear_1(x)\n",
    "        x = functional.relu(x)\n",
    "        x = self.linear_2(x)\n",
    "        # output (outputDimension)\n",
    "        return x\n",
    "\n",
    "    def forward_batch(self, input: Tensor):\n",
    "        # input (Batch,1,84,84)\n",
    "        x = self.conv2d_1(input)\n",
    "        x = functional.relu(x)\n",
    "        x = self.conv2d_2(x)\n",
    "        x = functional.relu(x)\n",
    "        x = x.flatten(start_dim=1)\n",
    "        x = self.linear_1(x)\n",
    "        x = functional.relu(x)\n",
    "        x = self.linear_2(x)\n",
    "        # output (Batch, outputDimension)\n",
    "        return x\n"
   ]
  },
  {
   "cell_type": "code",
   "execution_count": 3,
   "metadata": {},
   "outputs": [],
   "source": [
    "def pickAction(state):\n",
    "    global Epsilon\n",
    "\n",
    "    if(random.random()<Epsilon):\n",
    "        return env.action_space.sample()\n",
    "    else:\n",
    "        return torch.argmax(BreakoutPlayer(state)).item()"
   ]
  },
  {
   "cell_type": "code",
   "execution_count": 4,
   "metadata": {},
   "outputs": [],
   "source": [
    "def FrameskipStep(env, action, SkipFrames):\n",
    "    fullReward = 0\n",
    "    for _ in range(SkipFrames):\n",
    "        observation, reward, terminated, truncated, info = env.step(action)\n",
    "        fullReward += reward\n",
    "        if(terminated or truncated):\n",
    "            return observation, fullReward, terminated, truncated, info\n",
    "    return observation, fullReward, terminated, truncated, info"
   ]
  },
  {
   "cell_type": "code",
   "execution_count": 5,
   "metadata": {},
   "outputs": [
    {
     "data": {
      "text/plain": [
       "<All keys matched successfully>"
      ]
     },
     "execution_count": 5,
     "metadata": {},
     "output_type": "execute_result"
    }
   ],
   "source": [
    "Epsilon = 0.05\n",
    "\n",
    "inFrames = 4\n",
    "possibleActions = 4\n",
    "# the agent only sees every nth frame (1, 1+n, 1+2n, etc.) so the agent doesnt see the n-1 frames in between\n",
    "SkipFrames = 4\n",
    "\n",
    "BreakoutPlayer = Network(inFrames,possibleActions)\n",
    "BreakoutPlayer.load_state_dict(torch.load(f\"./checkpoints/breakout_agent.pt\", weights_only=True))"
   ]
  },
  {
   "cell_type": "code",
   "execution_count": 6,
   "metadata": {},
   "outputs": [
    {
     "name": "stderr",
     "output_type": "stream",
     "text": [
      "A.L.E: Arcade Learning Environment (version 0.10.1+unknown)\n",
      "[Powered by Stella]\n"
     ]
    },
    {
     "name": "stdout",
     "output_type": "stream",
     "text": [
      "3.0\n"
     ]
    },
    {
     "ename": "",
     "evalue": "",
     "output_type": "error",
     "traceback": [
      "\u001b[1;31mThe Kernel crashed while executing code in the current cell or a previous cell. \n",
      "\u001b[1;31mPlease review the code in the cell(s) to identify a possible cause of the failure. \n",
      "\u001b[1;31mClick <a href='https://aka.ms/vscodeJupyterKernelCrash'>here</a> for more info. \n",
      "\u001b[1;31mView Jupyter <a href='command:jupyter.viewOutput'>log</a> for further details."
     ]
    }
   ],
   "source": [
    "# validation enviroment\n",
    "\n",
    "Epsilon = 0.05\n",
    "\n",
    "env = gym.make(\"ALE/Breakout-v5\", render_mode = \"human\")\n",
    "\n",
    "env = gym.wrappers.ResizeObservation(env, (100,84))\n",
    "\n",
    "env = gym.wrappers.GrayScaleObservation(env, keep_dim = True)\n",
    "\n",
    "env = gym.wrappers.FrameStack(env, 4)\n",
    "\n",
    "validationEpisodeReward = 0\n",
    "\n",
    "with torch.no_grad():\n",
    "    observation, info = env.reset()\n",
    "    nextState = torch.tensor(numpy.array(observation)[:,8:8+84,:,:], dtype=torch.float32)\n",
    "    nextState= nextState.reshape((1,4,84,84))\n",
    "\n",
    "    terminated, truncated = False, False\n",
    "\n",
    "    while not terminated and not truncated:\n",
    "        state = nextState\n",
    "        action = pickAction(state)\n",
    "        observation, reward, terminated, truncated, info = FrameskipStep(env, action, SkipFrames)\n",
    "        validationEpisodeReward += reward\n",
    "        nextState = torch.tensor(numpy.array(observation)[:,8:8+84,:,:], dtype=torch.float32)\n",
    "        nextState = nextState.reshape((1,4,84,84))\n",
    "\n",
    "print(validationEpisodeReward)\n",
    "\n",
    "env.close()"
   ]
  }
 ],
 "metadata": {
  "kernelspec": {
   "display_name": "venv",
   "language": "python",
   "name": "python3"
  },
  "language_info": {
   "codemirror_mode": {
    "name": "ipython",
    "version": 3
   },
   "file_extension": ".py",
   "mimetype": "text/x-python",
   "name": "python",
   "nbconvert_exporter": "python",
   "pygments_lexer": "ipython3",
   "version": "3.12.7"
  }
 },
 "nbformat": 4,
 "nbformat_minor": 2
}
