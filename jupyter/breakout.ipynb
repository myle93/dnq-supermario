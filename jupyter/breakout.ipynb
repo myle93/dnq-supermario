{
 "cells": [
  {
   "cell_type": "code",
   "execution_count": 1,
   "metadata": {},
   "outputs": [],
   "source": [
    "%load_ext autoreload\n",
    "%autoreload 2\n",
    "\n",
    "import gymnasium\n",
    "from gymnasium import make # type: ignore\n",
    "from gymnasium.wrappers import FrameStack, ResizeObservation, GrayScaleObservation # type: ignore\n",
    "import ale_py\n",
    "from models.agents import BreakOutAgent, BreakOutConfig\n",
    "from pathlib import Path\n",
    "import yaml\n",
    "\n",
    "gymnasium.register_envs(ale_py)"
   ]
  },
  {
   "cell_type": "code",
   "execution_count": 2,
   "metadata": {},
   "outputs": [],
   "source": [
    "config_path = Path().resolve() / \"config\" / \"breakout.yaml\"\n",
    "# read yaml file\n",
    "with open(config_path) as file:\n",
    "    yaml_data = yaml.safe_load(file)\n",
    "config = BreakOutConfig.model_validate(yaml_data)"
   ]
  },
  {
   "cell_type": "code",
   "execution_count": null,
   "metadata": {},
   "outputs": [],
   "source": [
    "env = make(config.env.game)  # type: ignore\n",
    "env = ResizeObservation(env, config.env.obs_shape)\n",
    "env = GrayScaleObservation(env, keep_dim=config.env.keep_dim)\n",
    "env = FrameStack(env, config.env.n_stack)\n",
    "\n",
    "\n",
    "agents = BreakOutAgent(config, env)\n",
    "agents.train()\n",
    "agents.validate()\n",
    "\n",
    "env.close()"
   ]
  }
 ],
 "metadata": {
  "kernelspec": {
   "display_name": "Python 3 (ipykernel)",
   "language": "python",
   "name": "python3"
  },
  "language_info": {
   "codemirror_mode": {
    "name": "ipython",
    "version": 3
   },
   "file_extension": ".py",
   "mimetype": "text/x-python",
   "name": "python",
   "nbconvert_exporter": "python",
   "pygments_lexer": "ipython3",
   "version": "3.12.3"
  }
 },
 "nbformat": 4,
 "nbformat_minor": 4
}
